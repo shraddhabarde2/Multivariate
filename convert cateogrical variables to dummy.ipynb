{
 "cells": [
  {
   "cell_type": "code",
   "execution_count": 1,
   "metadata": {},
   "outputs": [
    {
     "name": "stdout",
     "output_type": "stream",
     "text": [
      "  channelGrouping     browser operatingSystem  isMobile deviceCategory  \\\n",
      "0  Organic Search      Chrome         Windows     False        desktop   \n",
      "1  Organic Search     Firefox       Macintosh     False        desktop   \n",
      "2  Organic Search      Chrome         Windows     False        desktop   \n",
      "3  Organic Search  UC Browser           Linux     False        desktop   \n",
      "4  Organic Search      Chrome         Android      True         mobile   \n",
      "\n",
      "  continent   campaign   medium  isTrueDirect  \n",
      "0      Asia  (not set)  organic         False  \n",
      "1   Oceania  (not set)  organic         False  \n",
      "2    Europe  (not set)  organic         False  \n",
      "3      Asia  (not set)  organic         False  \n",
      "4    Europe  (not set)  organic          True  \n",
      "<class 'pandas.core.frame.DataFrame'>\n"
     ]
    }
   ],
   "source": [
    "import pandas as pd\n",
    "import csv\n",
    "\n",
    "\n",
    "\n",
    "rd = pd.read_csv(\"allCategorical.csv\", header=0)\n",
    "print(rd.head(5))\n",
    "\n",
    "rd=pd.get_dummies(rd, drop_first=True)\n",
    "\n",
    "rd.to_csv(\"categoricalToDummy.csv\")\n",
    "\n"
   ]
  },
  {
   "cell_type": "code",
   "execution_count": null,
   "metadata": {},
   "outputs": [],
   "source": []
  }
 ],
 "metadata": {
  "kernelspec": {
   "display_name": "Python 3",
   "language": "python",
   "name": "python3"
  },
  "language_info": {
   "codemirror_mode": {
    "name": "ipython",
    "version": 3
   },
   "file_extension": ".py",
   "mimetype": "text/x-python",
   "name": "python",
   "nbconvert_exporter": "python",
   "pygments_lexer": "ipython3",
   "version": "3.7.0"
  }
 },
 "nbformat": 4,
 "nbformat_minor": 2
}
